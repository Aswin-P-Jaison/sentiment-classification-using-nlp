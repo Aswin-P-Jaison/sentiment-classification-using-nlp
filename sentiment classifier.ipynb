{
 "cells": [
  {
   "cell_type": "code",
   "execution_count": 1,
   "metadata": {},
   "outputs": [],
   "source": [
    "import pandas as pd\n",
    "import numpy as np"
   ]
  },
  {
   "cell_type": "code",
   "execution_count": 3,
   "metadata": {},
   "outputs": [
    {
     "data": {
      "text/html": [
       "<div>\n",
       "<style scoped>\n",
       "    .dataframe tbody tr th:only-of-type {\n",
       "        vertical-align: middle;\n",
       "    }\n",
       "\n",
       "    .dataframe tbody tr th {\n",
       "        vertical-align: top;\n",
       "    }\n",
       "\n",
       "    .dataframe thead th {\n",
       "        text-align: right;\n",
       "    }\n",
       "</style>\n",
       "<table border=\"1\" class=\"dataframe\">\n",
       "  <thead>\n",
       "    <tr style=\"text-align: right;\">\n",
       "      <th></th>\n",
       "      <th>package_name</th>\n",
       "      <th>review</th>\n",
       "      <th>polarity</th>\n",
       "    </tr>\n",
       "  </thead>\n",
       "  <tbody>\n",
       "    <tr>\n",
       "      <th>0</th>\n",
       "      <td>com.facebook.katana</td>\n",
       "      <td>privacy at least put some option appear offli...</td>\n",
       "      <td>0</td>\n",
       "    </tr>\n",
       "    <tr>\n",
       "      <th>1</th>\n",
       "      <td>com.facebook.katana</td>\n",
       "      <td>messenger issues ever since the last update, ...</td>\n",
       "      <td>0</td>\n",
       "    </tr>\n",
       "    <tr>\n",
       "      <th>2</th>\n",
       "      <td>com.facebook.katana</td>\n",
       "      <td>profile any time my wife or anybody has more ...</td>\n",
       "      <td>0</td>\n",
       "    </tr>\n",
       "    <tr>\n",
       "      <th>3</th>\n",
       "      <td>com.facebook.katana</td>\n",
       "      <td>the new features suck for those of us who don...</td>\n",
       "      <td>0</td>\n",
       "    </tr>\n",
       "    <tr>\n",
       "      <th>4</th>\n",
       "      <td>com.facebook.katana</td>\n",
       "      <td>forced reload on uploading pic on replying co...</td>\n",
       "      <td>0</td>\n",
       "    </tr>\n",
       "  </tbody>\n",
       "</table>\n",
       "</div>"
      ],
      "text/plain": [
       "          package_name                                             review  \\\n",
       "0  com.facebook.katana   privacy at least put some option appear offli...   \n",
       "1  com.facebook.katana   messenger issues ever since the last update, ...   \n",
       "2  com.facebook.katana   profile any time my wife or anybody has more ...   \n",
       "3  com.facebook.katana   the new features suck for those of us who don...   \n",
       "4  com.facebook.katana   forced reload on uploading pic on replying co...   \n",
       "\n",
       "   polarity  \n",
       "0         0  \n",
       "1         0  \n",
       "2         0  \n",
       "3         0  \n",
       "4         0  "
      ]
     },
     "execution_count": 3,
     "metadata": {},
     "output_type": "execute_result"
    }
   ],
   "source": [
    "review = pd.read_csv(r\"C:\\Users\\aswin\\Downloads\\sentiment analysis\\reviews.csv\")\n",
    "review = review.rename(columns = {'text': 'review'}, inplace = False)\n",
    "review.head()"
   ]
  },
  {
   "cell_type": "code",
   "execution_count": 4,
   "metadata": {},
   "outputs": [],
   "source": [
    "from sklearn.model_selection import train_test_split\n",
    "X = review.review\n",
    "y = review.polarity\n",
    "#split data\n",
    "X_train, X_test, y_train, y_test = train_test_split(X, y, train_size = 0.6, random_state = 1)"
   ]
  },
  {
   "cell_type": "code",
   "execution_count": 5,
   "metadata": {},
   "outputs": [
    {
     "name": "stdout",
     "output_type": "stream",
     "text": [
      "{'used': 2585, 'play': 1780, 'game': 984, 'years': 2739, 'ago': 113, 'absolute': 63, 'favorite': 884, 'recently': 1931, 'installed': 1233, 'got': 1030, 'say': 2077, 'slow': 2195, 'time': 2452, 'month': 1550, 've': 2605, 'lost': 1429, 'boosters': 297, 'paid': 1701, 'gets': 1001, 'taken': 2381, 'account': 72, 'don': 694, 'really': 1921, 'love': 1433, 'fix': 916, 'app': 155, 'great': 1038, 'program': 1862, 'guys': 1056, 'just': 1295, 'won': 2699, 'load': 1394, 'update': 2565, 'doesn': 689, 'stuck': 2309, 'downloading': 709, 'content': 534, 'restart': 2006, 'try': 2501, 'uninstall': 2543, 'install': 1232, 'going': 1024, 'error': 805, 'way': 2656, 'pop': 1799, 'search': 2100, 'using': 2593, 'image': 1184, 'seriously': 2128, 'hate': 1094, 'opera': 1667, 'mini': 1523, 'does': 688, 'support': 2347, 'ups': 2578, 'need': 1589, 'enabled': 775, 'choose': 425, 'enable': 774, 'forced': 940, 'use': 2584, 'uc': 2520, 'browser': 322, 'provide': 1872, 'option': 1673, 'long': 1411, 'press': 1831, 'menu': 1501, 'waiting': 2640, 'reply': 1984, 'atleast': 195, 'lacks': 1333, 'caps': 375, 'lock': 1401, 'function': 969, 'bothering': 301, 'type': 2514, 'words': 2705, 'capital': 371, 'letter': 1363, 'rate': 1905, 'star': 2260, 'higher': 1129, 'possiple': 1810, 'added': 87, 'internal': 1247, 'comms': 491, 'business': 345, 'good': 1028, 'far': 876, 'features': 891, 'overall': 1687, 'performance': 1742, 'slowly': 2198, 'functional': 970, 'functionality': 971, 'diminishing': 665, 'hangouts': 1080, 'automatically': 207, 'compress': 511, 'files': 905, 'sent': 2122, 'mms': 1537, 'results': 2011, 'bouncing': 304, 'muted': 1568, 'conversations': 546, 'ring': 2033, 'new': 1602, 'message': 1505, 'received': 1928, 'non': 1615, 'thread': 2440, 'google': 1029, 'forcing': 942, 'people': 1734, 'messenger': 1509, 'force': 939, 'll': 1393, 'party': 1713, 'apps': 168, 'especially': 808, 'student': 2310, 'like': 1372, 'think': 2432, 'better': 260, 'colourful': 478, 'maybe': 1482, 'colour': 477, 'attractive': 200, 'thanks': 2423, 'btw': 329, 'awesome': 213, 'nice': 1609, 'compatible': 500, 'handset': 1074, 'gionee': 1009, 'p2s': 1694, 'make': 1457, 'happy': 1088, 'woory': 2703, 'phone': 1752, 'march': 1470, '2016': 17, 'till': 2451, 'wish': 2695, 'year': 2738, 'hats': 1096, 'erroneous': 804, 'wechat': 2664, 'loading': 1396, 'location': 1399, 'data': 600, 'able': 62, 'nearby': 1583, 'previous': 1837, 'version': 2612, 'work': 2706, 'fine': 910, 'droid': 721, 'irritating': 1267, 'lot': 1430, 'explore': 847, 'friends': 962, 'locality': 1398, 'bugs': 336, 'contact': 532, 'syncing': 2370, 'frustrated': 964, 'having': 1100, 'couple': 555, 'screwed': 2091, 'contacts': 533, 'read': 1912, 'comments': 487, 'supposed': 2350, 'solutions': 2218, 'including': 1204, 'uninstalling': 2545, 'reinstalling': 1960, 'brief': 311, 'hours': 1159, 'night': 1612, 'appeared': 160, 'sync': 2367, 'linkedin': 1381, 'today': 2463, 'gone': 1026, 'case': 381, 'came': 359, 'previously': 1838, 'set': 2132, 'shortcuts': 2153, 'disabled': 672, 'samsung': 2067, 'galaxy': 982, '3s': 33, 'fan': 874, 'makes': 1458, 'difficult': 664, 'progress': 1863, 'unless': 2548, 'attack': 197, 'times': 2454, 'shield': 2146, 'period': 1743, 'ahead': 116, 'twice': 2512, 'day': 604, 'commit': 489, 'getting': 1002, 'excellent': 825, 'reception': 1932, 'amazing': 130, 'lets': 1362, 'touch': 2477, 'family': 873, 'worry': 2711, 'expensive': 842, 'mobile': 1539, 'bills': 265, 'want': 2646, 'know': 1322, 'did': 658, '10': 2, 'post': 1811, 'comment': 486, 'mean': 1487, 'unfriend': 2541, 'wrong': 2722, 'shifted': 2148, 'tab': 2373, 'lower': 1439, 'key': 1301, 'sooo': 2228, 'looks': 1416, 'chrome': 428, 'window': 2687, 'tht': 2444, 'bk': 273, 'mark': 1471, 'viber': 2616, 'extremely': 856, 'efficient': 756, 'communicate': 492, 'loved': 1434, 'skype': 2189, 'posting': 1812, 'issues': 1272, 'week': 2666, 'ghost': 1003, 'feeds': 895, 'uploaded': 2575, 'photo': 1755, 'closing': 457, 'fully': 967, 'fixed': 917, 'happen': 1082, 'platform': 1778, 'trying': 2502, 'best': 257, 'free': 954, 'note': 1619, 'evernote': 816, 'purchase': 1876, 'premium': 1828, 'annoying': 143, 'multiple': 1562, 'devices': 652, 'wide': 2681, 'uninstalled': 2544, 'downloaded': 708, 'thinking': 2433, 'soon': 2226, 'supported': 2348, 'log': 1402, 'web': 2658, 'wont': 2702, 'separate': 2124, 'list': 1385, 'reality': 1918, 'download': 707, 'big': 263, 'things': 2431, '15': 10, 'mb': 1485, 'says': 2079, 'failed': 869, 'tell': 2402, 'ur': 2579, 'plz': 1793, 'temple': 2407, 'run': 2052, 'pretty': 1833, 'fun': 968, 'didn': 659, 'videos': 2621, 'specific': 2244, 'boy': 307, 'girl': 1010, 'character': 411, 'okay': 1650, '90': 52, 'news': 1607, 'feed': 893, 'connect': 524, 'internet': 1248, 'works': 2709, 'reinstall': 1958, 'fixes': 918, 'issue': 1271, 'starts': 2265, 'saying': 2078, 'size': 2183, 'ui': 2526, 'small': 2201, 'footprint': 938, 'complain': 502, 'belong': 253, 'scroogle': 2096, 'camp': 361, 'funny': 974, 'nearly': 1584, 'perfect': 1739, 'ads': 100, 'look': 1413, 'sequel': 2127, 'wow': 2717, 'rovio': 2045, 'messed': 1508, 'beloved': 255, 'birds': 270, 'franchise': 953, 'right': 2032, 'loses': 1426, 'switch': 2360, 'different': 662, 'instead': 1239, 'hang': 1076, 'chatting': 415, 'suddenly': 2328, 'open': 1662, 'mints': 1526, 'responding': 2002, 'properly': 1867, 'stop': 2287, 'pls': 1789, 'based': 239, 'connection': 526, 'loads': 1397, 'badly': 226, 'suggest': 2331, 'annapurna': 141, 'beta': 259, 'kantipur': 1297, 'network': 1600, 'required': 1992, 'activities': 79, 'advertisement': 102, 'kmg': 1320, 'bullshit': 342, 'coding': 466, 'idk': 1178, 'edit': 749, 'posts': 1813, 'profile': 1861, 'picture': 1762, 'grey': 1042, 'longer': 1412, 'available': 209, 'htc': 1160, 'desire': 636, 'stars': 2261, 'shown': 2156, 'retrieve': 2015, 'crashed': 562, 'score': 2085, 'coins': 467, 'boosts': 298, 'gems': 995, 'negatives': 1594, 'aside': 184, 'enjoy': 787, 'waster': 2653, 'thinks': 2434, 'wsa': 2723, 'headed': 1105, 'thankyou': 2424, 'single': 2174, 'colume': 479, 'view': 2623, 'ok': 1649, 'number': 1636, 'scroll': 2093, 'webpage': 2660, 'copy': 549, 'dialog': 657, 'appears': 161, 'page': 1699, 'care': 379, 'opened': 1663, 'popup': 1804, 'screen': 2087, 'settings': 2134, 'caused': 388, 'close': 453, 'browsing': 324, 'experience': 843, 'bookmark': 291, 'folders': 930, 'happened': 1084, 'organized': 1678, 'computer': 513, 'kind': 1315, 'hard': 1089, 'simply': 2173, 'loss': 1428, 'keeps': 1299, 'away': 212, 'groups': 1049, 'necessary': 1588, 'requests': 1991, 'fb': 887, 'candy': 366, 'crush': 578, 'tired': 2458, 'special': 2242, 'candys': 368, 'dont': 698, 'anymore': 150, 'clear': 439, 'rows': 2046, 'clears': 442, 'wonder': 2700, 'plays': 1786, 'add': 86, 'slick': 2191, 'chat': 413, 'reactions': 1911, 'slack': 2190, 'adding': 91, 'send': 2117, 'facebook': 862, 'icon': 1173, 'replaced': 1980, 'everytime': 820, 'wifi': 2685, 'hope': 1152, 'yu': 2746, 'soonest': 2227, 'vids': 2622, 'android': 137, 'apple': 162, '16': 12, 'seconds': 2106, 'short': 2151, 'album': 119, 'camera': 360, 'roll': 2041, 'video': 2620, 'calling': 356, 'group': 1046, 'takes': 2383, 'minutes': 1529, 'text': 2414, 'improve': 1195, 'tapai': 2390, 'ko': 1328, 'dheri': 655, 'ramro': 1900, 'ra': 1893, 'upayogi': 2563, 'xa': 2729, 'tara': 2392, 'nai': 1572, 'chahe': 397, 'jati': 1280, 'fast': 878, 'net': 1599, 'vaya': 2604, 'pani': 1707, 'yo': 2743, 'problem': 1848, 'chadainai': 396, 'slove': 2194, 'hunxa': 1166, 'vanera': 2600, 'thank': 2420, 'low': 1438, 'quality': 1883, 'sound': 2235, 'bad': 225, 'talk': 2385, 'meizu': 1494, 'm2': 1446, 'setup': 2135, 'whitch': 2677, 'privacy': 1842, 'rating': 1907, 'kindly': 1317, 'needfull': 1591, 'continually': 536, 'fails': 870, 'upload': 2574, 'enormous': 792, 'trouble': 2497, 'auto': 204, 'usually': 2595, 'dropbox': 723, 'upgrade': 2571, 'thought': 2437, 'couldn': 554, 'exceeds': 824, 'expectations': 839, 'job': 1284, 'creation': 570, 'tried': 2492, 'create': 567, 'rated': 1906, 'ticket': 2448, 'request': 1990, 'fact': 866, 'tickets': 2449, 'latest': 1345, 'refuses': 1953, '3g': 30, 'reload': 1964, 'uploading': 2576, 'pic': 1757, 'replying': 1985, 'button': 349, 'select': 2113, 'photos': 1756, 'goes': 1023, 'main': 1453, 'occasions': 1641, 'enter': 794, 'gallery': 983, 'selected': 2114, 'change': 404, 's4': 2057, 'active': 78, 'shows': 2157, 'gray': 1036, 'plzz': 1794, 'horrible': 1155, 'crop': 575, 'sideways': 2162, 'square': 2256, 'rectangle': 1942, 'camscanner': 363, 'microsoft': 1515, 'lens': 1360, 'options': 1674, 'document': 687, 'images': 1185, 'needs': 1592, 'notebooks': 1622, 'flash': 919, 'turn': 2505, 'taking': 2384, 'likewise': 1375, 'detect': 644, 'edge': 748, 'editing': 752, 'interface': 1245, 'skitch': 2188, 'crazy': 566, 'updates': 2569, 'closed': 454, 'msg': 1558, 'everyday': 819, 'trigger': 2494, 'browsers': 323, 'id': 1174, 'maxthon': 1481, 'yandex': 2736, 'gold': 1025, 'coming': 484, 'strong': 2306, 'minuses': 1527, 'adblock': 85, 'stopped': 2288, 'translation': 2486, 'hilarious': 1135, 'translations': 2487, 'chinese': 423, 'english': 786, 'sense': 2121, 'chance': 402, 'noticing': 1627, 'translate': 2485, 'stay': 2270, 'jot': 1287, 'notes': 1623, 'shopping': 2150, 'lists': 1387, 'music': 1565, 'stories': 2294, 'come': 482, 'place': 1768, 'store': 2292, 'updated': 2568, 'synchronization': 2368, 'develop': 648, 'rapidly': 1904, 'worse': 2712, 'solely': 2215, 'viewing': 2625, 'sites': 2180, 'personalization': 1748, 'adjusting': 98, 'problems': 1850, 'benefits': 256, 'begin': 248, 'arise': 174, 'multiply': 1563, 'exponentially': 849, 'applying': 164, 'changes': 408, 'default': 616, 'substantial': 2322, 'lag': 1334, 'reloading': 1965, 'begins': 250, 'occur': 1642, 'scrolling': 2095, 'zooming': 2753, 'causes': 389, 'large': 1341, 'portions': 1806, 'loaded': 1395, 'blank': 276, 'went': 2671, '45mb': 38, '113mb': 6, 'extras': 855, 'capitalization': 372, 'needed': 1590, 'capitalize': 373, 'sentense': 2123, 'keyboard': 1302, 'essential': 811, 'feature': 890, 'sux': 2354, 'dead': 606, 'bases': 240, 'farming': 877, 'match': 1476, 'th': 2417, 'level': 1367, 'sucks': 2326, 'challenges': 400, 'easily': 743, 'wip': 2691, 'bored': 299, 'games': 987, 'entertainment': 796, 'battery': 243, 'forgot': 946, 'home': 1145, 'opening': 1664, 'dropped': 724, '50': 40, '25': 21, '30mins': 27, 'drop': 722, 'box': 305, 'hamro': 1067, 'doubt': 701, 'definitely': 619, 'following': 933, 'observed': 1638, 'letters': 1365, 'numbers': 1637, 'signs': 2166, 'missing': 1532, 'underscore': 2533, 'easy': 744, 'toggle': 2466, 'wtf': 2724, 'worked': 2707, '3yrs': 34, 'sudden': 2327, 'msgs': 1559, 'meeting': 1492, 'missed': 1531, 'friend': 960, 'constantly': 530, 'barely': 233, 'hell': 1116, 'sign': 2164, 'helps': 1121, 'maintaining': 1454, 'personal': 1747, 'space': 2238, 'check': 418, 'constant': 529, 'addiction': 89, 'usage': 2583, 'service': 2130, 'help': 1117, 'striking': 2305, 'balance': 227, 'social': 2211, 'life': 1370, 'greatness': 1040, 'compose': 510, 'dev': 647, 'quickly': 1888, 'sort': 2231, 'working': 2708, 'provided': 1873, 'older': 1652, 'capitalized': 374, 'lowercase': 1440, 'emoji': 769, 'donot': 697, 'appear': 158, 'emotions': 772, 'include': 1202, 'firefox': 914, 'pc': 1728, 'customize': 591, 'suit': 2336, 'continues': 538, 'secondary': 2105, 'cm': 463, 'heavy': 1112, 'websites': 2663, 'speed': 2245, 'improves': 1199, 'newer': 1604, 'versions': 2613, 'dark': 598, 'background': 220, 'age': 109, 'produced': 1857, 'company': 496, 'moving': 1555, 'xmpp': 2730, 'stopping': 2289, 'software': 2214, 'users': 2591, 'choosing': 426, 'black': 274, 'sticky': 2282, 'notification': 1628, 'logging': 1404, 'connected': 525, 'course': 556, 'isn': 1269, 'overseas': 1690, 'useful': 2586, 'scribble': 2092, 'smart': 2203, 'tablet': 2376, 'laptop': 1340, 'spontaneous': 2251, 'accurate': 75, 'write': 2718, 'return': 2017, 'writing': 2719, 'magical': 1451, 'saver': 2072, 'memory': 1496, 'keeper': 1298, 'worst': 2713, 'seen': 2111, 'm8': 1447, 'frequently': 958, 'running': 2053, 'developer': 649, 'india': 1215, 'click': 444, 'link': 1380, 'refresh': 1950, 'lte': 1442, '4g': 39, 'finding': 909, 'continuously': 540, 'multitasking': 1564, 'periodically': 1744, 'upgrades': 2572, 'developers': 650, 'idea': 1175, 'playing': 1785, 'old': 1651, 'marketplace': 1472, 'rid': 2029, 'paper': 1709, 'clutter': 461, 'anytime': 151, 'powerful': 1817, 'searches': 2101, 'scan': 2080, 'scanner': 2081, 'forward': 952, 'emails': 767, 'directly': 668, 'drag': 713, 'finger': 911, 'handwriting': 1075, 'mode': 1541, 'clip': 449, 'pages': 1700, 'parts': 1712, 'voice': 2635, 'user': 2590, 'suggestions': 2335, 'desktop': 638, 'integrates': 1241, 'related': 1961, 'allow': 124, 'boxes': 306, 'bullet': 341, 'items': 1274, 'ordered': 1676, 'deal': 607, 'duplication': 731, 'functions': 973, 'exist': 832, 'hopefully': 1153, 'share': 2142, 'figure': 903, 'gladly': 1015, 'left': 1355, 'unresponsive': 2558, 'lg': 1369, 'v10': 2599, 'lose': 1424, 'ability': 60, 'tap': 2389, 'uses': 2592, 'impractical': 1194, 'impossible': 1193, 'holds': 1144, 'phones': 1753, 'hostage': 1156, 'review': 2022, 'reliable': 1963, 'thing': 2430, 'somewhat': 2224, 'faast': 858, 'thats': 2425, 'mayth': 1484, 'maybee': 1483, 'man': 1463, 'messaging': 1507, 'changed': 406, 'sms': 2207, 'push': 1879, 'barrister': 235, 'akash': 118, 'application': 163, 'thi': 2429, 'essay': 810, 'perfectly': 1741, 'given': 1011, 'repeat': 1976, 'animated': 139, 'gifs': 1006, 'actually': 82, 'texting': 2415, 'important': 1191, 'drained': 715, 'online': 1658, 'complete': 506, 'bull': 340, '1186': 7, '100': 3, 'saved': 2071, 'payed': 1726, 'husband': 1168, 'ends': 781, 'ain': 117, 'receiving': 1929, 'recover': 1940, 'blocked': 279, 'cool': 547, 'widgets': 2683, 'helpful': 1119, 'reading': 1915, 'hebrew': 1113, 'cause': 387, 'removed': 1972, 'preview': 1835, 'animations': 140, 'attention': 199, 'cheaper': 417, 'charge': 412, 'buy': 350, 'password': 1718, 'reopen': 1975, 'info': 1218, 'incomplete': 1208, 'qq': 1882, 'telephone': 2401, 'remember': 1968, 'months': 1551, 'haven': 1098, 'crash': 561, 'notifications': 1629, 'receive': 1927, 'messages': 1506, 'calls': 357, 'invites': 1260, 'looked': 1414, 'solution': 2217, 'wasn': 2650, 'solve': 2219, 'giving': 1013, 'ugghh': 2523, 'ow': 1693, 'hangout': 1079, 'ąđ': 2754, 'blah': 275, 'sad': 2061, 'book': 290, 'ease': 741, 'rubbish': 2047, 'gives': 1012, 'little': 1389, 'compared': 498, 'drive': 718, 'dowload': 704, 'straight': 2297, 'generally': 997, 'price': 1839, 'tiers': 2450, 'clouds': 459, 'gmail': 1020, 'drives': 719, 'dissapointed': 685, 'making': 1459, 'unneeded': 2552, 'twitter': 2513, 'remove': 1971, 'quicker': 1887, 'access': 67, 'shortcut': 2152, 'heard': 1110, 'testing': 2413, 'chronological': 431, 'timeline': 2453, 'implemented': 1190, 'honestly': 1148, 'wouldn': 2716, 'official': 1646, 'oh': 1648, 'moments': 1546, 'dumb': 728, 'showing': 2155, 'pics': 1760, 'team': 2400, 'troubleshooting': 2499, 'procedure': 1853, 'viewed': 2624, 'standard': 2259, 'tips': 2457, 'tencent': 2408, 'lots': 1431, 'reason': 1923, 'simplicity': 2172, 'management': 1465, 'absolutely': 64, 'everybody': 818, 'associated': 191, 'unfortunately': 2539, 'hands': 1073, 'started': 2263, 'slower': 2196, 'glitchier': 1018, 'meh': 1493, 'agenda': 110, 'smartphone': 2204, 'block': 278, 'invitations': 1259, 'updating': 2570, 'totally': 2476, 'headache': 1104, 'nt': 1634, 'mobiles': 1540, 'suitable': 2337, 'searhing': 2103, 'asking': 187, 'sepearately': 2126, 'apart': 153, 'dwnldng': 733, 'tatal': 2397, 'compare': 497, 'places': 1770, 'vine': 2629, 's6': 2059, 'doing': 692, 'nepalese': 1597, 'booster': 296, 'independent': 1213, 'daily': 595, 'spin': 2249, 'unacceptable': 2530, 'worth': 2714, 'lousy': 1432, 'whiners': 2676, 'reviewing': 2024, 'hike': 1134, 'douchebags': 703, 'widget': 2682, 'welcome': 2669, 'brought': 320, 'details': 643, 'upgrading': 2573, 'som': 2222, 'sends': 2120, 'hour': 1158, 'sender': 2118, 'shw': 2161, 'person': 1746, 'offline': 1647, 'tge': 2416, 'othr': 1683, 'hand': 1069, 'resolve': 1999, 'govinda': 1033, 'gautam': 991, 'facillity': 865, 'typing': 2517, 'nepali': 1598, 'fonts': 936, 'half': 1063, 'font': 935, 'later': 1344, 'decent': 610, 'ram': 1898, 'occurs': 1643, 'requires': 1993, 'panning': 1708, 'address': 93, 'bar': 231, 'disappears': 675, 'pan': 1704, 'jolting': 1286, 'loose': 1418, 'highly': 1133, 'happens': 1086, 'broken': 318, 'marshmallow': 1473, 'lauded': 1346, 'os': 1681, 'products': 1860, 'dropping': 725, 'format': 948, 'sdcard': 2098, 'effectively': 755, 'asks': 188, 'card': 377, 'cast': 383, 'chromecast': 429, 'supports': 2349, 'wait': 2638, 'angry': 138, 'olds': 1654, 'challenge': 399, 'teach': 2399, 'children': 422, 'control': 541, 'tempers': 2406, 'ba': 218, 'frustrating': 965, 'entertaining': 795, 'enjoyable': 788, 'kill': 1313, 'advertisements': 103, 'turned': 2506, 'bit': 272, 'disruptive': 684, 'sure': 2351, 'decides': 612, 'notify': 1631, 'guess': 1054, 'inactivity': 1201, 'logged': 1403, '24': 20, 'computers': 514, 'frozen': 963, 'shadows': 2139, 'depth': 631, 'perception': 1737, 'approaching': 166, 'corner': 551, 'bug': 333, 'continue': 537, 'base': 238, 'percent': 1736, 'destroyed': 642, 'attacker': 198, 'deploy': 630, 'troops': 2495, 'personally': 1749, 'depend': 628, 'ony': 1660, 'pad': 1698, 'adds': 95, 'useless': 2589, 'irrelevant': 1266, 'information': 1219, 'birthday': 271, 'sos': 2234, 'plain': 1772, 'jane': 1279, 'replace': 1979, 'complicate': 508, 'said': 2066, 'grows': 1050, 'solid': 2216, 'opinion': 1669, 'point': 1795, 'formatted': 949, 'emojis': 770, 'appearance': 159, 'opacity': 1661, 'color': 474, 'cloud': 458, 'provider': 1874, 'flexibility': 923, 'streamlined': 2302, 'ubuntu': 2519, 'removable': 1970, 'storage': 2291, 'excels': 826, 'flawlessly': 921, 'securely': 2108, 'native': 1577, 'client': 447, 'linux': 1383, 'operating': 1668, 'systems': 2371, 'steamos': 2274, 'real': 1917, 'complaint': 504, 'lack': 1331, 'micro': 1514, 'sdxc': 2099, 'cards': 378, 'gonna': 1027, 'ones': 1657, 'express': 850, 'feelings': 898, 'dog': 691, 'instructions': 1240, 'confused': 520, 'thankful': 2421, 'letterd': 1364, 'processes': 1855, 'registration': 1955, 'doogee': 699, 'x5': 2727, 'cell': 391, 'bestâ': 258, 'doubtlessly': 702, 'fluent': 927, 'tablets': 2377, 'oppurtunity': 1671, 'thousands': 2439, 'sharing': 2144, 'thoughts': 2438, 'expressing': 851, 'buddies': 331, 'common': 490, 'national': 1576, 'language': 1338, 'thumbs': 2446, 'creating': 569, 'theme': 2426, 'customization': 590, 'improved': 1196, 'hi': 1124, 'emoticons': 771, 'sony': 2225, 'xperia': 2732, 'z3': 2748, 'sinxe': 2175, 'release': 1962, 'crapberry': 560, 'manually': 1468, 'massages': 1475, 'candycrush': 367, 'helpless': 1120, 'opens': 1666, 'searching': 2102, 'nd': 1580, 'slows': 2199, 'manager': 1466, 'save': 2070, 'target': 2393, 'pause': 1724, 'cancel': 364, 'unable': 2529, 'file': 904, 'tabs': 2378, 'multi': 1560, 'crashes': 563, 'regularly': 1957, 'youtube': 2744, 'promising': 1865, 'miss': 1530, 'gestures': 1000, 'swipes': 2358, 'homepage': 1146, 'bookmarks': 294, 'ucbrowser': 2521, 'hd': 1102, 'addictive': 90, 'brilliant': 313, 'clever': 443, 'hugely': 1163, 'ish': 1268, 'dear': 608, 'sir': 2176, 'patro': 1722, 'perfection': 1740, 'calendar': 355, 'flexible': 924, 'desired': 637, 'dates': 603, 'planner': 1775, 'possible': 1808, 'expertise': 844, 'note4': 1620, 'shut': 2159, 'backgrounds': 221, 'stickers': 2280, 'history': 1138, 'lately': 1343, 'telling': 2403, 'imessage': 1186, 'regular': 1956, 'facetime': 863, 'follow': 931, 'traditional': 2482, 'pattern': 1723, 'likes': 1374, 'correct': 552, 'loving': 1437, 'breaks': 310, 'accounts': 73, 'header': 1106, 'agreed': 115, 'break': 309, 'merged': 1503, 'engineering': 784, 'update2': 2566, 'exists': 833, '11': 5, 'update3': 2567, 'finally': 907, 'ing': 1221, 'instagram': 1231, 'external': 853, 'downloads': 710, 'negative': 1593, 'bars': 236, 'server': 2129, 'login': 1405, 'respond': 2001, 'heads': 1108, 'limitations': 1377, 'conversation': 545, 'head': 1103, 'paste': 1720, 'copied': 548, 'clipboard': 450, 'jill': 1283, 'tomorrow': 2468, 'simple': 2170, 'recommend': 1936, 'looking': 1415, 'unsatisfactory': 2559, 'friendly': 961, 'rank': 1903, 'colleagues': 469, 'revert': 2020, 'x8': 2728, 'logs': 1407, 'matter': 1480, 'categorizes': 386, 'safe': 2063, 'certificate': 395, 'anti': 147, 'virus': 2632, 'futhermore': 976, 'ed': 747, 'allows': 125, 'acces': 66, 'umm': 2528, 'gotten': 1032, 'kinda': 1316, 'basically': 242, 'soda': 2213, 'saga': 2065, 'days': 605, 'poor': 1798, 'arrives': 178, 'gif': 1005, 'reaches': 1910, 'disconects': 678, 'beep': 247, 'hated': 1095, 'inspired': 1230, 'completely': 507, 'unprofessional': 2556, 'website': 2662, 'forth': 950, 'verification': 2606, 'fleksy': 922, 'shall': 2140, 'world': 2710, 'keys': 1304, 'innovative': 1226, 'suggested': 2332, 'frenz': 957, 'nepal': 1596, 'creator': 571, 'shadow': 2138, 'device': 651, 'sticker': 2279, 'snowman': 2209, 'boost': 295, 'barracks': 234, 'loot': 1421, 'delays': 622, 'hide': 1125, 'delayed': 621, 'problm': 1851, 'err': 803, 'reasons': 1924, 'terms': 2411, 'design': 634, 'compression': 512, '86': 51, 'saving': 2074, 'previews': 1836, 'disable': 671, 'vibration': 2618, 'built': 339, 'wikipedia': 2686, 'engine': 783, 'german': 999, 'lovely': 1435, 'allready': 126, 'knows': 1326, 'facilities': 864, 'entire': 797, 'exceptionally': 827, 'hasn': 1093, 'played': 1782, 'let': 1361, 'im': 1183, 'hundreds': 1164, 'trophies': 2496, 'improvement': 1197, 'high': 1127, 'hot': 1157, 'casual': 384, 'current': 583, 'casually': 385, 'expect': 838, 'spend': 2248, 'afloat': 108, 'wanna': 2645, 'alot': 127, 'status': 2269, 'solved': 2220, 'unwanted': 2562, 'title': 2460, 'reinstalled': 1959, 'cleared': 440, 'difference': 661, 'appreciate': 165, 'broswer': 319, 'drainage': 714, 'noticed': 1626, 'draining': 716, 'ran': 1901, 'smoothly': 2206, 'certain': 394, 'webpages': 2661, 'glitch': 1016, 'jump': 1291, 'random': 1902, 'checked': 419, 'wi': 2680, 'fi': 902, 'harder': 1091, 'reader': 1914, 'description': 633, 'feel': 896, 'waste': 2651, 'ways': 2657, 'knock': 1321, 'building': 338, 'bird': 269, 'thoroughly': 2436, 'blessed': 277, 'material': 1478, 'storsge': 2295, 'epic': 798, 'recent': 1930, 'ton': 2469, 'supercell': 2344, 'buying': 351, 'imessages': 1187, 'detects': 645, 'form': 947, 'conjoined': 522, 'malayalam': 1461, 'overlapping': 1689, 'speedmode': 2246, 'second': 2104, 'customise': 589, 'armour': 175, 'powers': 1818, 'maps': 1469, 'destroy': 641, 'busy': 346, 'coc': 464, 'pick': 1758, 'true': 2500, 'raid': 1896, 'hardcore': 1090, 'players': 1784, 'average': 210, 'player': 1783, 'links': 1382, 'hanging': 1078, 'end': 778, '3gb': 31, 'action': 77, 'restore': 2008, 'backup': 223, 'general': 996, 'meant': 1489, 'migration': 1518, 'terrible': 2412, '45': 37, 'mins': 1525, 'highlight': 1131, 'fool': 937, 'designed': 635, 'onedrive': 1655, 'joke': 1285, 'erases': 801, 'orientation': 1679, 'tip': 2456, 'shift': 2147, 'instantly': 1238, 'written': 2721, 'setting': 2133, 'prob': 1845, 'sum': 2339, 'fastly': 881, 'ŕľ': 2757, 'žŕ': 2769, 'žŕľ': 2770, 'şŕľ': 2761, 'şŕ': 2760, 'šŕ': 2762, 'źŕ': 2766, 'ťŕ': 2764, 'żŕľ': 2768, 'żŕ': 2767, 'ľŕľ': 2756, 'keybord': 1303, 'site': 2179, 'retry': 2016, 'bunch': 344, 'gud': 1053, 'slowest': 2197, 'planet': 1774, 'spells': 2247, 'steal': 2273, 'elixir': 763, 'duration': 732, 'deleting': 625, 'ppl': 1819, 'soooo': 2229, 'boring': 300, 'ugly': 2525, 'wanted': 2647, 'hanged': 1077, 'weird': 2668, 'engines': 785, 'bing': 267, 'spread': 2253, 'combined': 481, 'independently': 1214, 'kept': 1300, 'track': 2481, 'activity': 80, 'stole': 2285, 'power': 1816, '60': 46, 'cheap': 416, 'manner': 1467, 'manage': 1464, 'nowww': 1633, 'connections': 527, 'means': 1488, 'live': 1390, 'smooth': 2205, 'uninstalls': 2546, 'driving': 720, 'quite': 1891, 'minute': 1528, 'liked': 1373, 'layout': 1347, 'handled': 1072, 'accepted': 65, 'invitation': 1258, 'nuisance': 1635, 'differently': 663, 'resources': 2000, 'product': 1858, 'speaker': 2241, 'functioning': 972, 'hold': 1143, 'ear': 736, 'hear': 1109, 'yrs': 2745, 'whts': 2679, 'desperately': 639, 'whatsapp': 2673, '101': 4, 'rock': 2039, 'introduce': 1251, 'strangers': 2299, 'irelative': 1265, 'stuff': 2312, 'approval': 167, 'knowledge': 1324, 'rocking': 2040, '2d': 23, 'kingdom': 1318, 'havoc': 1101, 'sling': 2193, 'shot': 2154, 'handful': 1070, 'colorful': 475, 'interesting': 1244, 'superpowers': 2345, 'fresh': 959, 'practice': 1821, 'usable': 2582, 'html': 1161, 'jpeg': 1288, 'changeable': 405, 'transition': 2484, 'networks': 1601, 'socket': 2212, 'http': 1162, 'protocol': 1871, 'learn': 1350, 'losing': 1427, 'bubble': 330, 'exits': 835, 'earn': 739, 'money': 1547, 'ugh': 2524, 'excited': 829, 'glitchy': 1019, 'face': 861, 'heck': 1114, 'analysing': 134, 'quick': 1886, '5minutes': 44, 'avoid': 211, 'listening': 1386, 'furthermore': 975, 'decreased': 613, 'registering': 1954, 'email': 765, 'initially': 1223, 'eventually': 815, 'dislike': 681, 'reviews': 2025, 'ridiculous': 2030, 'rounds': 2044, 'ad': 83, 'interrupt': 1250, 'sessions': 2131, 'reduce': 1947, 'pops': 1802, 'watch': 2654, 'moment': 1545, 'customer': 586, 'heart': 1111, 'hit': 1139, 'introduction': 1254, 'weeks': 2667, 'webclips': 2659, 'pdf': 1729, 'simpler': 2171, 'clipped': 451, 'adjust': 97, 'shrunk': 2158, 'expanded': 837, 'geez': 993, 'highlighting': 1132, 'colors': 476, 'brown': 321, 'mustard': 1566, 'yellow': 2740, 'responses': 2004, 'students': 2311, 'ratings': 1908, 'employees': 773, 'themes': 2427, 'retarded': 2013, 'stick': 2278, 'improving': 1200, 'bread': 308, 'butter': 348, 'selling': 2116, 'junk': 1294, 'errors': 806, 'unorganized': 2554, 'stressful': 2303, 'start': 2262, 'room': 2042, 'jackpot': 1277, 'wheel': 2674, 'pointless': 1796, 'initial': 1222, 'pushed': 1880, 'subsequent': 2321, 'forever': 944, 'mom': 1544, 'spur': 2254, 'ideas': 1176, 'finances': 908, 'pictures': 1763, 'school': 2084, 'fliers': 925, 'xoxo': 2731, '6g': 47, '32g': 28, 'hungry': 1165, 'bigger': 264, 'smaller': 2202, 'crap': 559, 'evertone': 817, 'lazy': 1348, 'devs': 653, 'tool': 2472, 'throw': 2442, 'electronically': 761, 'monitor': 1548, 'recognizes': 1935, 'grouping': 1047, 'similar': 2169, 'subject': 2316, 'talking': 2387, 'awsome': 217, 'sister': 2177, 'eye': 857, 'normal': 1617, 'dieing': 660, 'luckerly': 1444, 'whone': 2678, 'rest': 2005, 'ľŕ': 2755, 'annoyed': 142, 'assumed': 192, 'advised': 106, 'picked': 1759, 'backed': 219, 'initiating': 1224, '3h': 32, 'unfollow': 2537, 'controls': 543, 'sending': 2119, 'defaults': 617, 'plan': 1773, 'costing': 553, 'quits': 1892, 'leaving': 1353, 'fortune': 951, 'basic': 241, 'thumbnail': 2445, 'views': 2626, 'instance': 1236, 'gasp': 990, 'metadata': 1511, 'exif': 831, 'tag': 2379, 'embedding': 768, 'carousel': 380, 'typed': 2515, 'decided': 611, 'feels': 899, 'faster': 879, 'stable': 2258, 'clunky': 460, 'displayed': 682, 'panel': 1706, '12': 8, '367': 29, 'asus': 193, 'zenfone': 2749, 'upper': 2577, 'doesnt': 690, 'coz': 557, 'notified': 1630, 'ctrl': 579, 'adjustment': 99, 'confirmation': 518, 'extra': 854, 'moves': 1554, 'clicked': 445, 'pressed': 1832, 'accident': 69, 'took': 2471, 'intention': 1242, 'continuing': 539, 'felt': 900, 'hurt': 1167, 'consider': 528, 'tat': 2396, 'todoly': 2464, 'cue': 580, 'shab': 2137, 'safer': 2064, 'explorer': 848, 'spyware': 2255, 'richard': 2028, 'perez': 1738, 'moved': 1553, 'sd': 2097, 'waited': 2639, 'glitches': 1017, '500': 41, 'removing': 1973, 'recording': 1939, 'passed': 1716, 'levels': 1368, 'replayed': 1981, 'tries': 2493, 'kicks': 1311, 'disappointed': 676, 'usability': 2581, 'jumps': 1292, 'mo': 1538, 'folder': 929, 'root': 2043, 'directory': 669, 'intermediate': 1246, 'tb': 2398, 'offer': 1644, 'asked': 186, 'middle': 1516, 'road': 2037, 'aren': 173, 'interested': 1243, 'belongs': 254, 'trash': 2488, 'ruined': 2050, 'awhile': 215, 'immediately': 1189, '20': 14, 'awful': 214, 'popped': 1800, 'realized': 1920, 'pay': 1725, 'yep': 2741, 'earlier': 737, 'nokia': 1614, 'symbian': 2365, 'double': 700, 'shame': 2141, 'yall': 2735, 'havent': 1099, 'december': 609, '2015': 16, 'gameplay': 986, 'lopsided': 1423, 'compete': 501, 'invest': 1256, 'protect': 1869, 'occasionally': 1640, 'replied': 1982, 'switched': 2361, 'accumulated': 74, 'newest': 1605, 'original': 1680, 'j1': 1276, 'incognito': 1205, 'barstools': 237, 'preferred': 1827, 'mixed': 1536, 'agent': 111, 'switcher': 2362, 'leave': 1352, 'jam': 1278, 'fastest': 880, 'ancient': 136, 'lol': 1408, 'process': 1854, 'peramiters': 1735, 'episode': 799, 'lives': 1391, 'men': 1497, 'camper': 362, 'z1': 2747, 'ringtone': 2036, 'reverts': 2021, 'stops': 2290, 'iteam': 1273, 'iam': 1171, '13': 9, 'ill': 1182, 'demand': 627, 'skill': 2185, 'pass': 1715, 'adverts': 104, 'skip': 2186, 'tiny': 2455, 'delay': 620, 'reach': 1909, 'bookmarking': 293, 'bookmarked': 292, 'saves': 2073, 'rediculus': 1946, 'productive': 1859, 'playback': 1781, 'finishing': 913, 'šŕľ': 2763, 'inserting': 1229, 'symbols': 2366, 'galary': 981, 'wedding': 2665, 'phonetic': 1754, 'learners': 1351, 'helped': 1118, 'śŕ': 2758, 'śŕľ': 2759, 'ťŕľ': 2765, 'suboptimal': 2319, 'puts': 1881, 'favorites': 885, 'returning': 2018, 'clicking': 446, 'killed': 1314, 'matching': 1477, 'atks': 194, 'aquire': 171, 'ready': 1916, 'knowing': 1323, 'starting': 2264, 'backing': 222, 'dnt': 686, 'morning': 1552, 'popping': 1801, 'preventing': 1834, 'bolt': 284, 'purchased': 1877, 'upchurch': 2564, 'bruce': 325, 'lee': 1354, 'lt': 1441, 'emailed': 766, 'currency': 582, 'unlock': 2550, 'challange': 398, 'compleat': 505, 'mission': 1533, 'outfits': 1685, 'mystery': 1571, 'delight': 626, 'modern': 1543, 'classic': 436, 'renewing': 1974, 'town': 2479, 'hall': 1064, 'penalty': 1731, 'opponent': 1670, 'decreases': 614, 'newbie': 1603, 'tutorial': 2508, 'mentioned': 1499, 'god': 1022, 'highest': 1130, 'saw': 2076, 'member': 1495, 'achive': 76, 'fault': 883, 'identify': 1177, 'watching': 2655, 'tv': 2509, 'saptahik': 2068, 'utter': 2596, 'garbage': 988, 's2': 2055, 'switching': 2364, 'guy': 1055, 'endorsing': 780, 'recommendations': 1937, 'downhill': 706, 'hangs': 1081, 'fc': 888, 'minimised': 1524, 'pain': 1702, 'streaming': 2301, 'input': 1227, 'ignores': 1180, 'propper': 1868, 'changelog': 407, 'playstore': 1787, 'mozz': 1557, 'www': 2726, 'ff': 901, 'ignorant': 1179, 'exit': 834, 'submitting': 2318, 'reports': 1989, 'reporting': 1988, 'complaining': 503, 'probably': 1846, 'multiplayer': 1561, 'bonuses': 288, 'loots': 1422, 'village': 2627, 'aafnaii': 54, 'vasa': 2603, 'ma': 1448, 'lekhna': 1357, 'paauda': 1696, 'khusii': 1308, 'lagyoo': 1336, 'eaataii': 735, 'aaru': 58, 'aaps': 57, 'haru': 1092, 'nikaldaii': 1613, 'gaarnuu': 979, 'hoola': 1151, 'backward': 224, 'redesign': 1944, 'adequate': 96, 'fall': 872, 'redesigns': 1945, 'perpetrated': 1745, 'silent': 2167, 'vibrate': 2617, 'quiet': 1889, 'unforgivably': 2538, 'incompetent': 1207, 'confusing': 521, 'prior': 1841, 'reviewers': 2023, 'boo': 289, 'wallet': 2643, 'ios': 1261, 'ages': 112, 'disappear': 674, 'incredibly': 1212, 'freezes': 956, 'reported': 1987, 'feedback': 894, 'model': 1542, 'changing': 409, 'gave': 992, 'toes': 2465, 'troubleshooter': 2498, 'directed': 667, 'ending': 779, 'spam': 2239, 'accessible': 68, 'gtfohwtbs': 1052, 'mind': 1521, '30': 26, 'commercial': 488, 'deleted': 624, 'handle': 1071, 'unbelievably': 2531, 'reset': 1997, '04': 0, '0x': 1, 'communication': 493, 'office': 1645, 'prefer': 1824, 'stock': 2284, 'aosp': 152, 'mx': 1570, 'limits': 1378, 'tweets': 2511, 'retweet': 2019, 'tweet': 2510, 'response': 2003, 'glad': 1014, 'iike': 1181, 'straightforward': 2298, 'buggy': 335, 'editable': 750, 'caption': 376, 'greyed': 1043, 'pending': 1732, 'albums': 120, 'signed': 2165, 'clash': 434, 'clans': 433, 'creators': 572, 'planning': 1776, 'mozilla': 1556, 'particular': 1711, 'calm': 358, 'graphic': 1035, 'anchor': 135, 'tags': 2380, 'table': 2375, 'contents': 535, 'red': 1943, 'mighty': 1517, 'feathers': 889, 'invasive': 1255, 'leading': 1349, 'unpleasant': 2555, 'alternative': 129, 'anone': 144, 'private': 1843, 'restriction': 2010, 'stays': 2272, 'recognition': 1934, 'brings': 315, 'presentation': 1830, 'aspect': 189, 'organization': 1677, 'logo': 1406, 'displays': 683, 'explain': 846, 'happening': 1085, 'scoring': 2086, 'gains': 980, 'points': 1797, 'jelly': 1282, 'bomb': 285, 'jellies': 1281, 'candies': 365, 'fish': 915, 'finish': 912, 'platforms': 1779, 'bias': 262, 'mute': 1567, 'recieve': 1933, 'blocking': 281, 'rude': 2048, 'unread': 2557, 'concern': 516, 'damn': 596, 'war': 2649, 'asap': 182, 'closes': 456, 'letting': 1366, 'verified': 2607, 'code': 465, 'resend': 1996, 'mutiple': 1569, 'crashing': 564, 'ons': 1659, 'plug': 1790, 'ins': 1228, 'zoom': 2752, 'rerender': 1994, 'normally': 1618, 'ramp': 1899, 'ya': 2733, 'kitkat': 1319, 'position': 1807, 'sounds': 2236, 'runs': 2054, 'ambience': 131, 'navigation': 1579, 'easier': 742, 'clean': 437, 'strike': 2304, 'piggy': 1764, 'structures': 2308, 'flinging': 926, 'wings': 2690, 'wonderful': 2701, 'novel': 1632, 'appeal': 157, 'audience': 201, 'lemmings': 1358, '1990s': 13, 'whilst': 2675, 'beats': 245, 'remain': 1966, 'near': 1582, 'future': 977, 'flaw': 920, 'thankfully': 2422, 'binned': 268, 'fee': 892, 'neat': 1585, 'lacking': 1332, 'pin': 1765, 'security': 2109, 'dis': 670, 'followers': 932, 'yes': 2742, 'els': 764, 'stayed': 2271, 'ether': 813, 'conjure': 523, 'agree': 114, 'combine': 480, 'iphones': 1264, 'usefull': 2587, 'theres': 2428, 'exactly': 822, 'ua': 2518, 'dps': 712, 'knw': 1327, 'additional': 92, 'favourite': 886, 'fo': 928, 'necessarily': 1587, 'gem': 994, 'told': 2467, 'turns': 2507, 'disabling': 673, 'tamil': 2388, 'guyz': 1058, 'transfer': 2483, 'media': 1491, 'answer': 146, 'surprised': 2353, 'luck': 1443, 'stumbled': 2313, 'hooked': 1150, 'proper': 1866, 'tabbed': 2374, 'jungle': 1293, 'state': 2267, 'screenshots': 2090, 'queing': 1885, 'neato': 1586, 'crucial': 577, 'windows': 2688, 'wipe': 2692, 'comparing': 499, 'aficionado': 107, 'eat': 745, 'consumption': 531, 'blurred': 283, 'bandwidth': 229, 'suggestion': 2334, 'draught': 717, 'th11': 2418, 'donate': 695, 'th11s': 2419, 'wiping': 2693, 'collectors': 472, 'openness': 1665, 'clearly': 441, 'goals': 1021, 'various': 2602, 'plugins': 1791, 'communications': 494, 'sadly': 2062, 'bring': 314, 'walkie': 2642, 'talkie': 2386, 'silly': 2168, 'crawl': 565, 'installs': 1235, 'produce': 1856, 'sgh': 2136, 'i727': 1170, 'reduced': 1948, 'individual': 1216, 'loosing': 1420, 'specialy': 2243, 'automated': 205, 'generic': 998, 'privaye': 1844, 'quit': 1890, 'grab': 1034, 'mention': 1498, 'rules': 2051, 'supplies': 2346, 'example': 823, '75': 49, 'episodes': 800, 'college': 473, 'kid': 1312, 'grid': 1044, '2gb': 25, 'wah': 2636, 'noticeable': 1625, 'oversimplified': 1691, 'method': 1512, '2g': 24, 'expecting': 841, 'addicted': 88, 'variety': 2601, 'known': 1325, 'shedding': 2145, 'swipe': 2357, 'villages': 2628, 'labratory': 1330, 'danm': 597, 'cache': 353, 'bought': 303, 'p8': 1695, 'lite': 1388, 'kicked': 1309, 'radio': 1894, 'possiblethen': 1809, 'swift': 2356, 'esp': 807, 'penultimate': 1733, 'cross': 576, 'word': 2704, 'esprcially': 809, 'lil': 1376, 'believe': 252, 'treat': 2491, 'verify': 2608, 'cp': 558, 'filled': 906, 'gven': 1059, 'mentioning': 1500, 'tumblr': 2504, 'blog': 282, 'somesite': 2223, 'stream': 2300, 'withou': 2697, 'earphone': 740, 'bcome': 244, 'advice': 105, 'hv': 1169, 'tells': 2404, 'evrybody': 821, 'cuz': 594, 'isnt': 1270, 'remains': 1967, 'disconnectec': 679, 'ths': 2443, 'aprrox': 169, 'tnx': 2462, 'greatfull': 1039, 'surprise': 2352, 'brightly': 312, 'story': 2296, 'historical': 1137, 'event': 814, 'credentials': 573, 'authenticate': 203, 'shutting': 2160, 's5': 2058, 'command': 485, 'alterations': 128, 'uk': 2527, 'ee': 753, 'bt': 328, 'london': 1410, 'underground': 2532, 'virgin': 2630, '2036': 18, '98649': 53, 'practically': 1820, 'unusable': 2561, 'present': 1829, 'discovered': 680, 'enlarged': 790, 'sufficiently': 2330, 'readable': 1913, 'enlarges': 791, 'pinch': 1766, 'adage': 84, 'broke': 317, 'comes': 483, 'ice': 1172, 'monster': 1549, 'infront': 1220, 'ehhh': 758, 'decreasing': 615, 'custom': 585, 'vibrations': 2619, 'invisible': 1257, 'wake': 2641, 'reflect': 1949, 'sit': 2178, 'threw': 2441, 'cellphone': 392, 'loves': 1436, 'choice': 424, 'toolbar': 2473, 'url': 2580, 'vertical': 2615, 'screens': 2088, 'unloading': 2549, 'gigabytes': 1008, 'overflow': 1688, 'cluttered': 462, 'mess': 1504, 'purchases': 1878, 'popups': 1805, 'encouraging': 777, 'ruin': 2049, 'stupid': 2315, 'separately': 2125, 'drops': 726, 'hami': 1066, 'neoali': 1595, 'dukha': 727, 'sukaha': 2338, 'sathi': 2069, 'nexus': 1608, 'ux': 2597, 'introduced': 1252, 'scrollbar': 2094, 'channel': 410, 'arsenal': 180, 'virtual': 2631, 'notebook': 1621, 'binder': 266, 'cabinet': 352, 'tasks': 2395, 'repeating': 1978, 'reminders': 1969, 'snooze': 2208, 'term': 2410, 'receipts': 1926, 'travel': 2489, 'plans': 1777, 'prayers': 1822, 'spiritual': 2250, 'writings': 2720, 'tos': 2474, 'dependable': 629, 'panasonic': 1705, 't10': 2372, 'messing': 1510, 'sorry': 2230, 'unfriendly': 2542, 'lefthand': 1356, 'installing': 1234, 'build': 337, 'scheme': 2083, 'expirience': 845, 'prefered': 1825, 'cutting': 593, 'fab': 859, 'unstable': 2560, 'customisatins': 588, 'capabilities': 370, 'unmatched': 2551, 'freeze': 955, 'atm': 196, 'arrange': 176, 'order': 1675, 'kicking': 1310, 'jumbled': 1290, 'unedited': 2536, 'suggesting': 2333, 'ipad': 1262, 'stolen': 2286, 'iphone': 1263, 'gamecenter': 985, 'hey': 1123, 'nope': 1616, 'receipt': 1925, 'date': 602, 'created': 568, 'cashing': 382, 'success': 2324, 'hame': 1065, 'suffered': 2329, 'fate': 882, 'expandable': 836, 'collapsible': 468, 'hierarchies': 1126, 'windows10': 2689, 'instant': 1237, 'fantastic': 875, 'superb': 2343, 'dunno': 729, 'delete': 623, 'exclaimed': 830, 'gig': 1007, 'steps': 2276, '250': 22, 'mbs': 1486, 'worthless': 2715, 'honest': 1147, 'nicely': 1610, 'collected': 470, 'collection': 471, 'placement': 1769, 'anoying': 145, 'source': 2237, 'income': 1206, 'placing': 1771, 'replies': 1983, 'greed': 1041, 'section': 2107, 'refreshing': 1952, 'despite': 640, 'refreshes': 1951, 'loooooooooooooovvved': 1417, 'incredible': 1211, 'butt': 347, 'automatic': 206, 'abke': 61, 'magic': 1450, 'package': 1697, 'usefully': 2588, 'verry': 2611, 'wen': 2670, 'tels': 2405, 'dat': 599, 'roaming': 2038, 'chats': 414, 'yahoo': 2734, 'sso': 2257, 'notice': 1624, 'initiative': 1225, 'effort': 757, 'immediate': 1188, 'phn': 1750, '40': 35, '22mb': 19, '15mb': 11, 'languages': 1339, 'waist': 2637, 'wasteful': 2652, 'improvements': 1198, 's3': 2056, 'aps': 170, 'paying': 1727, 'beginning': 249, 'dozen': 711, 'usless': 2594, 'ringing': 2034, 'tone': 2470, 'eng': 782, 'patient': 1721, 'restored': 2009, 'pswrd': 1875, 'banned': 230, 'problematic': 1849, 'artifacts': 181, 'sabotaged': 2060, 'taker': 2382, 'primarily': 1840, 'peek': 1730, 'titles': 2461, 'judgment': 1289, 'downgrade': 705, 'apparent': 156, 'undo': 2535, 'forces': 941, 'happend': 1083, 'span': 2240, 'importantly': 1192, 'extension': 852, 'arrogant': 179, 'stewards': 2277, 'database': 601, 'ensure': 793, 'customers': 587, 'optimum': 1672, 'gotchas': 1031, 'cut': 592, 'api': 154, 'narrow': 1573, 'minded': 1522, '512kbps': 43, 'preety': 1823, 'awsm': 216, 'task': 2394, 'verson': 2614, 'chances': 403, 'brutally': 326, 'cumbersome': 581, 'hoping': 1154, 'dolphin': 693, 'screenshot': 2089, 'held': 1115, 'plus': 1792, 'wants': 2648, 'factory': 867, 'report': 1986, 'cellular': 393, 'tube': 2503, 'desame': 632, 'chest': 421, 'unninstall': 2553, 'concept': 515, 'availability': 208, 'natively': 1578, 'looses': 1419, 'erm': 802, 'swaps': 2355, 'lollies': 1409, 'bombs': 286, 'sorted': 2232, 'rings': 2035, 'forget': 945, 'shop': 2149, 'unite': 2547, 'dialer': 656, 'merge': 1502, 'acts': 81, 'fail': 868, 'bufring': 332, '5star': 45, 'switches': 2363, 'self': 2115, 'startup': 2266, 'highend': 1128, 'config': 517, 'calculation': 354, 'hack': 1061, 'disappointment': 677, 'restarting': 2007, 'checklist': 420, 'wife': 2684, 'hindi': 1136, 'becoz': 246, 'lipi': 1384, 'neali': 1581, 'haami': 1060, 'hau': 1097, 'tq': 2480, 'miui7': 1535, 'sights': 2163, 'probs': 1852, 'weren': 2672, 'ask': 185, 'ekantipur': 760, '826': 50, 'inferior': 1217, 'enables': 776, 'headlines': 1107, 'understand': 2534, 'situation': 2182, 'according': 71, 'currently': 584, 'deterioted': 646, 'aspects': 190, 'gtalk': 1051, 'incorporate': 1209, 'earliest': 738, '505': 42, 'total': 2475, 'bs': 327, 'stats': 2268, 'verison': 2609, '736': 48, 'past': 1719, 'million': 1519, 'skipping': 2187, 'forest': 943, 'sitting': 2181, 'ridiculously': 2031, 'living': 1392, 'excessive': 828, 'unfreeze': 2540, 'arrangement': 177, 'outcalls': 1684, 'wise': 2694, 'khtra': 1307, 'estae': 812, 'aap': 56, 'hagu': 1062, 'banae': 228, 'rakhnu': 1897, 'parxa': 1714, 'mitra': 1534, 'phon': 1751, 'core': 550, 'resantly': 1995, 'problam': 1847, 'conformation': 519, 'anwer': 149, 'record': 1938, 'revisiting': 2026, 'raft': 1895, 'tapping': 2391, 'super': 2342, 'cautious': 390, 'accidently': 70, 'swiping': 2359, 'rewelacja': 2027, 'bardzo': 232, 'uĺźyteczne': 2598, 'narzä': 1575, 'dzie': 734, 'komunikacji': 1329, 'zespole': 2751, 'interpretation': 1249, 'touchscreen': 2478, 'expected': 840, 'tendency': 2409, 'realize': 1919, 'define': 618, 'cap': 369, 'hog': 1141, 'eating': 746, 'scarce': 2082, 'challenging': 401, 'synchronizing': 2369, 'fualts': 966, 'lengthy': 1359, 'visible': 2633, 'slide': 2192, 'line': 1379, 'step': 2275, 'wth': 2725, 'reallyđ': 1922, 'marshmallows': 1474, 'retirement': 2014, 'guysđ': 1057, 'preference': 1826, 'subtext': 2323, 'follows': 934, 'clogs': 452, 'othe': 1682, 'protected': 1870, 'picsart': 1761, 'seeing': 2110, 'bothers': 302, 'cleaner': 438, 'major': 1456, 'advantage': 101, 'typically': 2516, '40mb': 36, 'laggy': 1335, 'stilted': 2283, 'sticking': 2281, 'fair': 871, 'begun': 251, 'lasted': 1342, 'outstanding': 1686, 'fabulous': 860, 'popular': 1803, 'complicated': 509, 'solves': 2221, 'mait': 1455, 'sm': 2200, 'g900f': 978, 'savings': 2075, 'malware': 1462, 'included': 1203, 'blocker': 280, 'obviously': 1639, 'effect': 754, 'chromium': 430, 'hook': 1149, 'credit': 574, 'american': 133, 'groupme': 1048, 'class': 435, 'audio': 202, 'potentially': 1815, 'stunning': 2314, 'happily': 1087, 'qualms': 1884, 'khojyo': 1306, 'thyehi': 2447, 'paine': 1703, 'ek': 759, 'matra': 1479, 'newly': 1606, 'pliz': 1788, 'edited': 751, 'grayed': 1037, 'zero': 2750, 'sees': 2112, 'shared': 2143, 'resets': 1998, 'stored': 2293, 'retained': 2012, 'subscribe': 2320, 'submit': 2317, 'loser': 1425, 'yay': 2737, 'addressed': 94, 'bummer': 343, 'traveling': 2490, 'spotty': 2252, 'bugd': 334, 'sumpreme': 2341, 'wizards': 2698, 'min': 1520, 'hogs': 1142, 'strongened': 2307, 'giants': 1004, 'skeletons': 2184, 'incraese': 1210, 'abilities': 59, 'pl': 1767, 'elixer': 762, 'walls': 2644, 'lvl': 1445, 'archive': 172, 'potential': 1814, 'conts': 544, 'clientside': 448, 'nicknames': 1611, 'community': 495, 'controlled': 542, 'dharai': 654, 'ho': 1140, 'kalo': 1296, 'malai': 1460, 'aalikati': 55, 'paren': 1710, 'hamrokeyboard': 1068, 'lai': 1337, 'bharema': 261, 'ali': 123, 'sochnuna': 2210, 'maile': 1452, 'anurodh': 148, 'garchu': 989, 'alert': 121, 'alerts': 122, 'keywords': 1305, 'direct': 666, 'closer': 455, 'broadcast': 316, 'verizon': 2610, 'locations': 1400, 'city': 432, 'recovery': 1941, 'america': 132, 'enjoyed': 789, 'summer': 2340, 'visuals': 2634, 'sorting': 2233, 'oldest': 1653, 'mic': 1513, 'oneplusx': 1656, 'passion': 1717, 'project': 1864, 'lifesaver': 1371, 'christmas': 427, '2014': 15, 'duplicate': 730, 'med': 1490, 'grocery': 1045, 'overworked': 1692, 'bonus': 287, 'tho': 2435, 'iv': 1275, 'feeling': 897, 'introducing': 1253, 'ashame': 183, 'suck': 2325, 'donno': 696, 'wit': 2696, 'heros': 1122, 'titan': 2459, 'naruto': 1574, 'madara': 1449, 'uchihađ': 2522, 'repeatedly': 1977}\n"
     ]
    }
   ],
   "source": [
    "from sklearn.feature_extraction.text import CountVectorizer\n",
    "vector = CountVectorizer(stop_words = 'english',lowercase=False)\n",
    "# fit the vectorizer on the training data\n",
    "vector.fit(X_train)\n",
    "print(vector.vocabulary_)\n",
    "X_transformed = vector.transform(X_train)\n",
    "X_transformed.toarray()\n",
    "# for test data\n",
    "X_test_transformed = vector.transform(X_test)"
   ]
  },
  {
   "cell_type": "code",
   "execution_count": 6,
   "metadata": {},
   "outputs": [
    {
     "data": {
      "text/html": [
       "<style>#sk-container-id-1 {color: black;background-color: white;}#sk-container-id-1 pre{padding: 0;}#sk-container-id-1 div.sk-toggleable {background-color: white;}#sk-container-id-1 label.sk-toggleable__label {cursor: pointer;display: block;width: 100%;margin-bottom: 0;padding: 0.3em;box-sizing: border-box;text-align: center;}#sk-container-id-1 label.sk-toggleable__label-arrow:before {content: \"▸\";float: left;margin-right: 0.25em;color: #696969;}#sk-container-id-1 label.sk-toggleable__label-arrow:hover:before {color: black;}#sk-container-id-1 div.sk-estimator:hover label.sk-toggleable__label-arrow:before {color: black;}#sk-container-id-1 div.sk-toggleable__content {max-height: 0;max-width: 0;overflow: hidden;text-align: left;background-color: #f0f8ff;}#sk-container-id-1 div.sk-toggleable__content pre {margin: 0.2em;color: black;border-radius: 0.25em;background-color: #f0f8ff;}#sk-container-id-1 input.sk-toggleable__control:checked~div.sk-toggleable__content {max-height: 200px;max-width: 100%;overflow: auto;}#sk-container-id-1 input.sk-toggleable__control:checked~label.sk-toggleable__label-arrow:before {content: \"▾\";}#sk-container-id-1 div.sk-estimator input.sk-toggleable__control:checked~label.sk-toggleable__label {background-color: #d4ebff;}#sk-container-id-1 div.sk-label input.sk-toggleable__control:checked~label.sk-toggleable__label {background-color: #d4ebff;}#sk-container-id-1 input.sk-hidden--visually {border: 0;clip: rect(1px 1px 1px 1px);clip: rect(1px, 1px, 1px, 1px);height: 1px;margin: -1px;overflow: hidden;padding: 0;position: absolute;width: 1px;}#sk-container-id-1 div.sk-estimator {font-family: monospace;background-color: #f0f8ff;border: 1px dotted black;border-radius: 0.25em;box-sizing: border-box;margin-bottom: 0.5em;}#sk-container-id-1 div.sk-estimator:hover {background-color: #d4ebff;}#sk-container-id-1 div.sk-parallel-item::after {content: \"\";width: 100%;border-bottom: 1px solid gray;flex-grow: 1;}#sk-container-id-1 div.sk-label:hover label.sk-toggleable__label {background-color: #d4ebff;}#sk-container-id-1 div.sk-serial::before {content: \"\";position: absolute;border-left: 1px solid gray;box-sizing: border-box;top: 0;bottom: 0;left: 50%;z-index: 0;}#sk-container-id-1 div.sk-serial {display: flex;flex-direction: column;align-items: center;background-color: white;padding-right: 0.2em;padding-left: 0.2em;position: relative;}#sk-container-id-1 div.sk-item {position: relative;z-index: 1;}#sk-container-id-1 div.sk-parallel {display: flex;align-items: stretch;justify-content: center;background-color: white;position: relative;}#sk-container-id-1 div.sk-item::before, #sk-container-id-1 div.sk-parallel-item::before {content: \"\";position: absolute;border-left: 1px solid gray;box-sizing: border-box;top: 0;bottom: 0;left: 50%;z-index: -1;}#sk-container-id-1 div.sk-parallel-item {display: flex;flex-direction: column;z-index: 1;position: relative;background-color: white;}#sk-container-id-1 div.sk-parallel-item:first-child::after {align-self: flex-end;width: 50%;}#sk-container-id-1 div.sk-parallel-item:last-child::after {align-self: flex-start;width: 50%;}#sk-container-id-1 div.sk-parallel-item:only-child::after {width: 0;}#sk-container-id-1 div.sk-dashed-wrapped {border: 1px dashed gray;margin: 0 0.4em 0.5em 0.4em;box-sizing: border-box;padding-bottom: 0.4em;background-color: white;}#sk-container-id-1 div.sk-label label {font-family: monospace;font-weight: bold;display: inline-block;line-height: 1.2em;}#sk-container-id-1 div.sk-label-container {text-align: center;}#sk-container-id-1 div.sk-container {/* jupyter's `normalize.less` sets `[hidden] { display: none; }` but bootstrap.min.css set `[hidden] { display: none !important; }` so we also need the `!important` here to be able to override the default hidden behavior on the sphinx rendered scikit-learn.org. See: https://github.com/scikit-learn/scikit-learn/issues/21755 */display: inline-block !important;position: relative;}#sk-container-id-1 div.sk-text-repr-fallback {display: none;}</style><div id=\"sk-container-id-1\" class=\"sk-top-container\"><div class=\"sk-text-repr-fallback\"><pre>MultinomialNB()</pre><b>In a Jupyter environment, please rerun this cell to show the HTML representation or trust the notebook. <br />On GitHub, the HTML representation is unable to render, please try loading this page with nbviewer.org.</b></div><div class=\"sk-container\" hidden><div class=\"sk-item\"><div class=\"sk-estimator sk-toggleable\"><input class=\"sk-toggleable__control sk-hidden--visually\" id=\"sk-estimator-id-1\" type=\"checkbox\" checked><label for=\"sk-estimator-id-1\" class=\"sk-toggleable__label sk-toggleable__label-arrow\">MultinomialNB</label><div class=\"sk-toggleable__content\"><pre>MultinomialNB()</pre></div></div></div></div></div>"
      ],
      "text/plain": [
       "MultinomialNB()"
      ]
     },
     "execution_count": 6,
     "metadata": {},
     "output_type": "execute_result"
    }
   ],
   "source": [
    "\n",
    "\n",
    "from sklearn.naive_bayes import MultinomialNB\n",
    "naivebayes = MultinomialNB()\n",
    "naivebayes.fit(X_transformed, y_train)\n",
    "\n"
   ]
  },
  {
   "cell_type": "code",
   "execution_count": 7,
   "metadata": {},
   "outputs": [
    {
     "name": "stdout",
     "output_type": "stream",
     "text": [
      "              precision    recall  f1-score   support\n",
      "\n",
      "           0       0.93      0.78      0.85       262\n",
      "           1       0.58      0.83      0.68        95\n",
      "\n",
      "    accuracy                           0.80       357\n",
      "   macro avg       0.75      0.81      0.77       357\n",
      "weighted avg       0.84      0.80      0.80       357\n",
      "\n"
     ]
    }
   ],
   "source": [
    "\n",
    "\n",
    "from sklearn.metrics import classification_report\n",
    "print(classification_report(naivebayes.predict(X_test_transformed), y_test))\n",
    "\n"
   ]
  },
  {
   "cell_type": "code",
   "execution_count": 8,
   "metadata": {},
   "outputs": [
    {
     "name": "stdout",
     "output_type": "stream",
     "text": [
      "Headline: [\"privacy at least put some option appear offline. i mean for some people like me it's a big pressure to be seen online like you need to response on every message or else you be called seenzone only. if only i wanna do on facebook is to read on my newsfeed and just wanna response on message i want to. pls reconsidered my review. i tried to turn off chat but still can see me as online.\"]\n",
      "NEGATIVE\n"
     ]
    }
   ],
   "source": [
    "review1 = ['''privacy at least put some option appear offline. i mean for some people like me it's a big pressure to be seen online like you need to response on every message or else you be called seenzone only. if only i wanna do on facebook is to read on my newsfeed and just wanna response on message i want to. pls reconsidered my review. i tried to turn off chat but still can see me as online.''']\n",
    "vec = vector.transform(review1).toarray()\n",
    "print('Headline:', review1)\n",
    "print(str(list(naivebayes.predict(vec))[0]).replace('0', 'NEGATIVE').replace('1', 'POSITIVE'))\n",
    "#naivebayes.predict(vec)[0]"
   ]
  },
  {
   "cell_type": "code",
   "execution_count": 9,
   "metadata": {},
   "outputs": [],
   "source": [
    "#to save the model\n",
    "import pickle\n",
    "\n",
    "saved_model = pickle.dumps(naivebayes)"
   ]
  },
  {
   "cell_type": "code",
   "execution_count": 10,
   "metadata": {},
   "outputs": [],
   "source": [
    "#load saved model\n",
    "s = pickle.loads(saved_model)"
   ]
  },
  {
   "cell_type": "code",
   "execution_count": 11,
   "metadata": {},
   "outputs": [
    {
     "data": {
      "text/plain": [
       "1"
      ]
     },
     "execution_count": 11,
     "metadata": {},
     "output_type": "execute_result"
    }
   ],
   "source": [
    "review2 = ['The app is really good']\n",
    "vec = vector.transform(review2).toarray()\n",
    "\n",
    "s.predict(vec)[0]"
   ]
  },
  {
   "cell_type": "code",
   "execution_count": null,
   "metadata": {},
   "outputs": [],
   "source": []
  }
 ],
 "metadata": {
  "kernelspec": {
   "display_name": "Python 3",
   "language": "python",
   "name": "python3"
  },
  "language_info": {
   "codemirror_mode": {
    "name": "ipython",
    "version": 3
   },
   "file_extension": ".py",
   "mimetype": "text/x-python",
   "name": "python",
   "nbconvert_exporter": "python",
   "pygments_lexer": "ipython3",
   "version": "3.11.5"
  },
  "orig_nbformat": 4
 },
 "nbformat": 4,
 "nbformat_minor": 2
}
